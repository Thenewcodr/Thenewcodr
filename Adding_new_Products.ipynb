{
  "nbformat": 4,
  "nbformat_minor": 0,
  "metadata": {
    "colab": {
      "name": "Adding_new_Products.ipynb",
      "provenance": []
    },
    "kernelspec": {
      "name": "python3",
      "display_name": "Python 3"
    },
    "language_info": {
      "name": "python"
    }
  },
  "cells": [
    {
      "cell_type": "markdown",
      "metadata": {
        "id": "j9rSMgKytN9V"
      },
      "source": [
        "## Read Data from JSON"
      ]
    },
    {
      "cell_type": "markdown",
      "metadata": {
        "id": "N95vU9oSZV4G"
      },
      "source": [
        "#IMPORTING JSON and record dataset"
      ]
    },
    {
      "cell_type": "code",
      "metadata": {
        "id": "wlQdKmzYpRok"
      },
      "source": [
        "import json\n",
        "fd = open(\"record.json\",'r')\n",
        "r = fd.read()\n",
        "fd.close()\n",
        "record = json.loads(r)\n"
      ],
      "execution_count": 12,
      "outputs": []
    },
    {
      "cell_type": "markdown",
      "metadata": {
        "id": "D7T5uWzFZml8"
      },
      "source": [
        "# Displaying the contents of the file record.json\n"
      ]
    },
    {
      "cell_type": "code",
      "metadata": {
        "id": "N8fCrfQHqlUN",
        "colab": {
          "base_uri": "https://localhost:8080/"
        },
        "outputId": "edade57a-1ea0-4272-a854-ffa339ec0b0f"
      },
      "source": [
        "record"
      ],
      "execution_count": 35,
      "outputs": [
        {
          "output_type": "execute_result",
          "data": {
            "text/plain": [
              "{'1001': {'name': 'Choco Cake', 'pr': 100, 'qn': 34},\n",
              " '1002': {'name': 'Milk Cake', 'pr': 800, 'qn': 100},\n",
              " '1003': {'name': 'Drink', 'pr': 85, 'qn': 100},\n",
              " '1004': {'name': 'Candy', 'pr': 5, 'qn': 1000},\n",
              " '1005': {'name': 'Pen', 'pr': 20, 'qn': 100},\n",
              " '1006': {'name': 'Phone', 'pr': 50000, 'qn': 10},\n",
              " '1007': {'name': 'Mic', 'pr': 1500, 'qn': 0},\n",
              " '1008': {'name': 'Case', 'pr': 599, 'qn': 5},\n",
              " '1009': {'name': 'Keyboard', 'pr': 1999, 'qn': 10},\n",
              " '1010': {'name': 'bis', 'pr': 10, 'qn': 100},\n",
              " '1011': {'name': 'wdg', 'pr': 20, 'qn': 266},\n",
              " '1012': {'name': 'fhmn', 'pr': 20, 'qn': 10},\n",
              " '1013': {'name': 'dthtdh', 'pr': 100, 'qn': 520},\n",
              " '1014': {'name': 'srfgwg', 'pr': 155, 'qn': 23},\n",
              " '1015': {'name': 'jtkyujy', 'pr': 50, 'qn': 100},\n",
              " '1016': {'name': 'qwert', 'pr': 500, 'qn': 10},\n",
              " '1017': {'name': 'rtgbvcde', 'pr': 900, 'qn': 6},\n",
              " '1018': {'name': 'poinbb', 'pr': 200, 'qn': 100},\n",
              " '1019': {'name': 'utgvuv', 'pr': 50, 'qn': 400},\n",
              " '1020': {'name': 'zeaszz', 'pr': 345, 'qn': 65},\n",
              " '1021': {'name': 'nbnvnvn', 'pr': 200, 'qn': 20},\n",
              " '1022': {'name': 'plmkn', 'pr': 100, 'qn': 50},\n",
              " '1023': {'name': 'hyghio', 'pr': 45, 'qn': 122},\n",
              " '1024': {'name': 'uestfgynjk', 'pr': 120, 'qn': 50},\n",
              " '1025': {'name': 'drhtdc', 'pr': 2000, 'qn': 6},\n",
              " '1026': {'name': 'exdhbi', 'pr': 10, 'qn': 1000},\n",
              " '1027': {'name': 'ooujytf', 'pr': 90, 'qn': 45},\n",
              " '1028': {'name': 'yuyfjh', 'pr': 45, 'qn': 900},\n",
              " '1029': {'name': 'yuoiku', 'pr': 100, 'qn': 100},\n",
              " '1030': {'name': 'pijfriv', 'pr': 10, 'qn': 100},\n",
              " '1031': {'name': 'fdf', 'pr': 66, 'qn': 16}}"
            ]
          },
          "metadata": {},
          "execution_count": 35
        }
      ]
    },
    {
      "cell_type": "markdown",
      "metadata": {
        "id": "fNniKChHtFsH"
      },
      "source": [
        "## Add New Item into Inventory\n",
        "n= number of items to be addded"
      ]
    },
    {
      "cell_type": "code",
      "metadata": {
        "id": "f61BridoqxZN"
      },
      "source": [
        "i= 0\n",
        "for i in range (1,n,1):\n",
        "  prod_id = str(input(\"Enter product id:\"))\n",
        "  name = str(input(\"Enter name:\"))\n",
        "  pr = int(input(\"Enter price:\"))\n",
        "  qn = int(input(\"Enter quantity:\"))\n",
        "  record[prod_id] = {'name': name, 'pr': pr, 'qn': qn}\n",
        "  i=i+1\n",
        "\n",
        "\n",
        "  \n",
        "\n",
        "\n",
        "\n"
      ],
      "execution_count": 30,
      "outputs": []
    },
    {
      "cell_type": "markdown",
      "metadata": {
        "id": "O9TpPaq3aOI8"
      },
      "source": [
        "## Displaying the updated values og the json file\n",
        "the updated values are viewed and editing is tested."
      ]
    },
    {
      "cell_type": "code",
      "metadata": {
        "id": "fqLcVGqqt_cO",
        "colab": {
          "base_uri": "https://localhost:8080/"
        },
        "outputId": "a2797ff3-c3bc-46d1-95b7-f35860c74839"
      },
      "source": [
        "record"
      ],
      "execution_count": 31,
      "outputs": [
        {
          "output_type": "execute_result",
          "data": {
            "text/plain": [
              "{'1001': {'name': 'Choco Cake', 'pr': 100, 'qn': 34},\n",
              " '1002': {'name': 'Milk Cake', 'pr': 800, 'qn': 100},\n",
              " '1003': {'name': 'Drink', 'pr': 85, 'qn': 100},\n",
              " '1004': {'name': 'Candy', 'pr': 5, 'qn': 1000},\n",
              " '1005': {'name': 'Pen', 'pr': 20, 'qn': 100},\n",
              " '1006': {'name': 'Phone', 'pr': 50000, 'qn': 10},\n",
              " '1007': {'name': 'Mic', 'pr': 1500, 'qn': 0},\n",
              " '1008': {'name': 'Case', 'pr': 599, 'qn': 5},\n",
              " '1009': {'name': 'Keyboard', 'pr': 1999, 'qn': 10},\n",
              " '101': {'name': '3g2r3g0', 'pr': 62, 'qn': 656},\n",
              " '1010': {'name': 'bis', 'pr': 10, 'qn': 100},\n",
              " '1011': {'name': 'wdg', 'pr': 20, 'qn': 266},\n",
              " '1012': {'name': 'fhmn', 'pr': 20, 'qn': 10},\n",
              " '1013': {'name': 'dthtdh', 'pr': 100, 'qn': 520},\n",
              " '1014': {'name': 'srfgwg', 'pr': 155, 'qn': 23},\n",
              " '1015': {'name': 'jtkyujy', 'pr': 50, 'qn': 100},\n",
              " '1016': {'name': 'qwert', 'pr': 500, 'qn': 10},\n",
              " '1017': {'name': 'rtgbvcde', 'pr': 900, 'qn': 6},\n",
              " '1018': {'name': 'poinbb', 'pr': 200, 'qn': 100},\n",
              " '1019': {'name': 'utgvuv', 'pr': 50, 'qn': 400},\n",
              " '1020': {'name': 'zeaszz', 'pr': 345, 'qn': 65},\n",
              " '1021': {'name': 'nbnvnvn', 'pr': 200, 'qn': 20},\n",
              " '1022': {'name': 'plmkn', 'pr': 100, 'qn': 50},\n",
              " '1023': {'name': 'hyghio', 'pr': 45, 'qn': 122},\n",
              " '1024': {'name': 'uestfgynjk', 'pr': 120, 'qn': 50},\n",
              " '1025': {'name': 'drhtdc', 'pr': 2000, 'qn': 6},\n",
              " '1026': {'name': 'exdhbi', 'pr': 10, 'qn': 1000},\n",
              " '1027': {'name': 'ooujytf', 'pr': 90, 'qn': 45},\n",
              " '1028': {'name': 'yuyfjh', 'pr': 45, 'qn': 900},\n",
              " '1029': {'name': 'yuoiku', 'pr': 100, 'qn': 100},\n",
              " '1030': {'name': 'pijfriv', 'pr': 10, 'qn': 100},\n",
              " '1031': {'name': 'fdf', 'pr': 66, 'qn': 16}}"
            ]
          },
          "metadata": {},
          "execution_count": 31
        }
      ]
    },
    {
      "cell_type": "code",
      "metadata": {
        "id": "Mh8xAFUk7qFv"
      },
      "source": [
        "del record['101']"
      ],
      "execution_count": 32,
      "outputs": []
    },
    {
      "cell_type": "code",
      "metadata": {
        "id": "n0UdHaVVFFLB",
        "colab": {
          "base_uri": "https://localhost:8080/"
        },
        "outputId": "e33851d9-331f-468c-c338-aa3aab53630a"
      },
      "source": [
        "record"
      ],
      "execution_count": 33,
      "outputs": [
        {
          "output_type": "execute_result",
          "data": {
            "text/plain": [
              "{'1001': {'name': 'Choco Cake', 'pr': 100, 'qn': 34},\n",
              " '1002': {'name': 'Milk Cake', 'pr': 800, 'qn': 100},\n",
              " '1003': {'name': 'Drink', 'pr': 85, 'qn': 100},\n",
              " '1004': {'name': 'Candy', 'pr': 5, 'qn': 1000},\n",
              " '1005': {'name': 'Pen', 'pr': 20, 'qn': 100},\n",
              " '1006': {'name': 'Phone', 'pr': 50000, 'qn': 10},\n",
              " '1007': {'name': 'Mic', 'pr': 1500, 'qn': 0},\n",
              " '1008': {'name': 'Case', 'pr': 599, 'qn': 5},\n",
              " '1009': {'name': 'Keyboard', 'pr': 1999, 'qn': 10},\n",
              " '1010': {'name': 'bis', 'pr': 10, 'qn': 100},\n",
              " '1011': {'name': 'wdg', 'pr': 20, 'qn': 266},\n",
              " '1012': {'name': 'fhmn', 'pr': 20, 'qn': 10},\n",
              " '1013': {'name': 'dthtdh', 'pr': 100, 'qn': 520},\n",
              " '1014': {'name': 'srfgwg', 'pr': 155, 'qn': 23},\n",
              " '1015': {'name': 'jtkyujy', 'pr': 50, 'qn': 100},\n",
              " '1016': {'name': 'qwert', 'pr': 500, 'qn': 10},\n",
              " '1017': {'name': 'rtgbvcde', 'pr': 900, 'qn': 6},\n",
              " '1018': {'name': 'poinbb', 'pr': 200, 'qn': 100},\n",
              " '1019': {'name': 'utgvuv', 'pr': 50, 'qn': 400},\n",
              " '1020': {'name': 'zeaszz', 'pr': 345, 'qn': 65},\n",
              " '1021': {'name': 'nbnvnvn', 'pr': 200, 'qn': 20},\n",
              " '1022': {'name': 'plmkn', 'pr': 100, 'qn': 50},\n",
              " '1023': {'name': 'hyghio', 'pr': 45, 'qn': 122},\n",
              " '1024': {'name': 'uestfgynjk', 'pr': 120, 'qn': 50},\n",
              " '1025': {'name': 'drhtdc', 'pr': 2000, 'qn': 6},\n",
              " '1026': {'name': 'exdhbi', 'pr': 10, 'qn': 1000},\n",
              " '1027': {'name': 'ooujytf', 'pr': 90, 'qn': 45},\n",
              " '1028': {'name': 'yuyfjh', 'pr': 45, 'qn': 900},\n",
              " '1029': {'name': 'yuoiku', 'pr': 100, 'qn': 100},\n",
              " '1030': {'name': 'pijfriv', 'pr': 10, 'qn': 100},\n",
              " '1031': {'name': 'fdf', 'pr': 66, 'qn': 16}}"
            ]
          },
          "metadata": {},
          "execution_count": 33
        }
      ]
    },
    {
      "cell_type": "markdown",
      "metadata": {
        "id": "RvwJ0e0yaXDV"
      },
      "source": [
        "# Replacing the file as json"
      ]
    },
    {
      "cell_type": "code",
      "metadata": {
        "id": "zUa1OcFMFFmq"
      },
      "source": [
        "js = json.dumps(record)\n",
        "\n",
        "fd = open(\"record.json\",'w')\n",
        "fd.write(js)\n",
        "fd.close()"
      ],
      "execution_count": 37,
      "outputs": []
    }
  ]
}