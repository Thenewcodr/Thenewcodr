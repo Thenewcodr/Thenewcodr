{
  "nbformat": 4,
  "nbformat_minor": 0,
  "metadata": {
    "colab": {
      "name": "Purchasing_Products.ipynb",
      "provenance": []
    },
    "kernelspec": {
      "name": "python3",
      "display_name": "Python 3"
    },
    "language_info": {
      "name": "python"
    }
  },
  "cells": [
    {
      "cell_type": "markdown",
      "metadata": {
        "id": "R6NHgAYkxqSl"
      },
      "source": [
        "## Read Inventory"
      ]
    },
    {
      "cell_type": "code",
      "metadata": {
        "id": "jkJT24jqug9n"
      },
      "source": [
        "import json\n",
        "\n",
        "fd = open(\"record.json\",'r')\n",
        "\n",
        "r = fd.read()\n",
        "\n",
        "fd.close()\n",
        "\n",
        "records = json.loads(r)"
      ],
      "execution_count": 24,
      "outputs": []
    },
    {
      "cell_type": "code",
      "metadata": {
        "colab": {
          "base_uri": "https://localhost:8080/"
        },
        "id": "CcLYokrlus6z",
        "outputId": "ed289871-a265-459c-ad63-dc42ced46f8f"
      },
      "source": [
        "records"
      ],
      "execution_count": 25,
      "outputs": [
        {
          "output_type": "execute_result",
          "data": {
            "text/plain": [
              "{'1001': {'name': 'Choco Cake', 'pr': 100, 'qn': 34},\n",
              " '1002': {'name': 'Milk Cake', 'pr': 800, 'qn': 100},\n",
              " '1003': {'name': 'Drink', 'pr': 85, 'qn': 100},\n",
              " '1004': {'name': 'Candy', 'pr': 5, 'qn': 1000},\n",
              " '1005': {'name': 'Pen', 'pr': 20, 'qn': 100},\n",
              " '1006': {'name': 'Phone', 'pr': 50000, 'qn': 10},\n",
              " '1007': {'name': 'Mic', 'pr': 1500, 'qn': 0},\n",
              " '1008': {'name': 'Case', 'pr': 599, 'qn': 5},\n",
              " '1009': {'name': 'Keyboard', 'pr': 1999, 'qn': 10},\n",
              " '1010': {'name': 'bis', 'pr': 10, 'qn': 100},\n",
              " '1011': {'name': 'wdg', 'pr': 20, 'qn': 266},\n",
              " '1012': {'name': 'fhmn', 'pr': 20, 'qn': 10},\n",
              " '1013': {'name': 'dthtdh', 'pr': 100, 'qn': 520},\n",
              " '1014': {'name': 'srfgwg', 'pr': 155, 'qn': 23},\n",
              " '1015': {'name': 'jtkyujy', 'pr': 50, 'qn': 100},\n",
              " '1016': {'name': 'qwert', 'pr': 500, 'qn': 10},\n",
              " '1017': {'name': 'rtgbvcde', 'pr': 900, 'qn': 6},\n",
              " '1018': {'name': 'poinbb', 'pr': 200, 'qn': 100},\n",
              " '1019': {'name': 'utgvuv', 'pr': 50, 'qn': 400},\n",
              " '1020': {'name': 'zeaszz', 'pr': 345, 'qn': 65},\n",
              " '1021': {'name': 'nbnvnvn', 'pr': 200, 'qn': 20},\n",
              " '1022': {'name': 'plmkn', 'pr': 100, 'qn': 50},\n",
              " '1023': {'name': 'hyghio', 'pr': 45, 'qn': 122},\n",
              " '1024': {'name': 'uestfgynjk', 'pr': 120, 'qn': 50},\n",
              " '1025': {'name': 'drhtdc', 'pr': 2000, 'qn': 6},\n",
              " '1026': {'name': 'exdhbi', 'pr': 10, 'qn': 1000},\n",
              " '1027': {'name': 'ooujytf', 'pr': 90, 'qn': 45},\n",
              " '1028': {'name': 'yuyfjh', 'pr': 45, 'qn': 900},\n",
              " '1029': {'name': 'yuoiku', 'pr': 100, 'qn': 100},\n",
              " '1030': {'name': 'pijfriv', 'pr': 10, 'qn': 90},\n",
              " '1031': {'name': 'fdf', 'pr': 66, 'qn': 16}}"
            ]
          },
          "metadata": {},
          "execution_count": 25
        }
      ]
    },
    {
      "cell_type": "markdown",
      "metadata": {
        "id": "WI5f7HTuxwzb"
      },
      "source": [
        "## Purchase portal"
      ]
    },
    {
      "cell_type": "code",
      "metadata": {
        "colab": {
          "base_uri": "https://localhost:8080/"
        },
        "id": "c4E4eIvyuth0",
        "outputId": "d0ee0f67-e40d-43ae-80eb-1c62a8e81393"
      },
      "source": [
        "n = int(input(\"Enter the total number of products\"))\n",
        "for i in range (0,n,1):\n",
        " ui_prod  = str(input(\"Enter the product_Id: \"))\n",
        " ui_quant = int(input(\"Enter the quantity: \"))\n",
        "\n",
        "\n",
        " print(\"Product: \", records[ui_prod]['name'])\n",
        " print(\"Price: \", records[ui_prod]['pr'])\n",
        " print(\"Billing Amount: \", records[ui_prod]['pr'] * ui_quant)\n",
        "\n",
        " records[ui_prod]['qn'] = records[ui_prod]['qn'] - ui_quant\n",
        " n=n+1"
      ],
      "execution_count": 38,
      "outputs": [
        {
          "output_type": "stream",
          "name": "stdout",
          "text": [
            "Enter the total number of products2\n",
            "Enter the product_Id: 1010\n",
            "Enter the quantity: 1\n",
            "Product:  bis\n",
            "Price:  10\n",
            "Billing Amount:  10\n",
            "Enter the product_Id: 1026\n",
            "Enter the quantity: 2\n",
            "Product:  exdhbi\n",
            "Price:  10\n",
            "Billing Amount:  20\n"
          ]
        }
      ]
    },
    {
      "cell_type": "markdown",
      "metadata": {
        "id": "3h8S8JBVx1_D"
      },
      "source": [
        "## Update Inventory after purchase"
      ]
    },
    {
      "cell_type": "code",
      "metadata": {
        "id": "TO68fUvvwzXt",
        "colab": {
          "base_uri": "https://localhost:8080/"
        },
        "outputId": "70316624-a2ed-4d9b-b82e-13dfc55f4c5e"
      },
      "source": [
        "js = json.dumps(records)\n",
        "\n",
        "fd = open(\"record.json\",'w')\n",
        "fd.write(js)\n",
        "fd.close()\n",
        "n"
      ],
      "execution_count": 31,
      "outputs": [
        {
          "output_type": "execute_result",
          "data": {
            "text/plain": [
              "0"
            ]
          },
          "metadata": {},
          "execution_count": 31
        }
      ]
    },
    {
      "cell_type": "markdown",
      "metadata": {
        "id": "pl_p5yDpyu_9"
      },
      "source": [
        "## Sales JSON"
      ]
    },
    {
      "cell_type": "code",
      "metadata": {
        "colab": {
          "base_uri": "https://localhost:8080/"
        },
        "id": "FwBezn_LxBV4",
        "outputId": "1b5a0cba-5f53-47b7-934f-ec642dd0b096"
      },
      "source": [
        "for i in range (0,n,1):\n",
        "  sales ={'prod' : ui_prod, 'qn' : ui_quant, 'amount': records[ui_prod]['pr'] * ui_quant}\n",
        "  n=n+1\n",
        "sales\n"
      ],
      "execution_count": 39,
      "outputs": [
        {
          "output_type": "execute_result",
          "data": {
            "text/plain": [
              "{'amount': 20, 'prod': '1026', 'qn': 2}"
            ]
          },
          "metadata": {},
          "execution_count": 39
        }
      ]
    },
    {
      "cell_type": "code",
      "metadata": {
        "id": "6R0kXinOyWbK",
        "colab": {
          "base_uri": "https://localhost:8080/"
        },
        "outputId": "6f3f5da6-a94a-4032-8837-4fe06ea1e6c2"
      },
      "source": [
        "sales = {1 : {'prod' : ui_prod, 'qn' : ui_quant, 'amount': records[ui_prod]['pr'] * ui_quant},\n",
        "         2 : {'prod' : ui_prod, 'qn' : ui_quant, 'amount': records[ui_prod]['pr'] * ui_quant},\n",
        "         3 : {'prod' : ui_prod, 'qn' : ui_quant, 'amount': records[ui_prod]['pr'] * ui_quant}}\n",
        "sales         "
      ],
      "execution_count": 40,
      "outputs": [
        {
          "output_type": "execute_result",
          "data": {
            "text/plain": [
              "{1: {'amount': 20, 'prod': '1026', 'qn': 2},\n",
              " 2: {'amount': 20, 'prod': '1026', 'qn': 2},\n",
              " 3: {'amount': 20, 'prod': '1026', 'qn': 2}}"
            ]
          },
          "metadata": {},
          "execution_count": 40
        }
      ]
    },
    {
      "cell_type": "code",
      "metadata": {
        "id": "LRbOdbiUycNe"
      },
      "source": [
        "sale = json.dumps(sales)"
      ],
      "execution_count": 30,
      "outputs": []
    },
    {
      "cell_type": "code",
      "metadata": {
        "colab": {
          "base_uri": "https://localhost:8080/"
        },
        "id": "tt1wQ8-ikOeU",
        "outputId": "90cd4ba1-a770-4c32-90b1-9f3466374618"
      },
      "source": [
        "sales"
      ],
      "execution_count": 34,
      "outputs": [
        {
          "output_type": "execute_result",
          "data": {
            "text/plain": [
              "{1: {'amount': 100, 'prod': '1011', 'qn': 5},\n",
              " 2: {'amount': 100, 'prod': '1011', 'qn': 5},\n",
              " 3: {'amount': 100, 'prod': '1011', 'qn': 5}}"
            ]
          },
          "metadata": {},
          "execution_count": 34
        }
      ]
    },
    {
      "cell_type": "code",
      "metadata": {
        "id": "Ql-36cCkkO_r"
      },
      "source": [
        ""
      ],
      "execution_count": null,
      "outputs": []
    }
  ]
}